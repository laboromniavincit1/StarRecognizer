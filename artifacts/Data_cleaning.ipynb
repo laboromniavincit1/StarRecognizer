{
 "cells": [
  {
   "cell_type": "code",
   "execution_count": 3,
   "id": "fd64ffb9",
   "metadata": {},
   "outputs": [],
   "source": [
    "import os \n",
    "import cv2\n",
    "import matplotlib.pyplot as plt"
   ]
  },
  {
   "cell_type": "code",
   "execution_count": 7,
   "id": "893478bd",
   "metadata": {},
   "outputs": [],
   "source": [
    "path_to_data = \"./data/train/\"\n",
    "path_to_cr_data = \"./data/train/cropped/\""
   ]
  },
  {
   "cell_type": "code",
   "execution_count": 8,
   "id": "c8a5237f",
   "metadata": {},
   "outputs": [],
   "source": [
    "img_dirs = []\n",
    "for i in os.scandir(path_to_data):\n",
    "    if i.is_dir():\n",
    "        img_dirs.append(i.path)"
   ]
  },
  {
   "cell_type": "code",
   "execution_count": 9,
   "id": "d047b2b5",
   "metadata": {},
   "outputs": [
    {
     "data": {
      "text/plain": [
       "['./data/train/alexandra_daddario',\n",
       " './data/train/johnny depp',\n",
       " './data/train/ms_dhoni',\n",
       " './data/train/narendra_modi']"
      ]
     },
     "execution_count": 9,
     "metadata": {},
     "output_type": "execute_result"
    }
   ],
   "source": [
    "img_dirs"
   ]
  },
  {
   "cell_type": "code",
   "execution_count": null,
   "id": "83cf9d4f",
   "metadata": {},
   "outputs": [],
   "source": []
  },
  {
   "cell_type": "code",
   "execution_count": 4,
   "id": "92a6c61f",
   "metadata": {},
   "outputs": [],
   "source": [
    "faces_cascade = cv2.CascadeClassifier('haarcascade/haarcascade_frontalface_default.xml')\n",
    "eyes_cascade = cv2.CascadeClassifier('haarcascade/haarcascade_eye.xml')"
   ]
  },
  {
   "cell_type": "code",
   "execution_count": 1,
   "id": "fcf0d603",
   "metadata": {},
   "outputs": [],
   "source": [
    "def get_croped_image(image_path):\n",
    "    img = cv2.imread(image_path)\n",
    "    if img is not None:\n",
    "        face = faces_cascade.detectMultiScale(img)\n",
    "        for (x,y,w,h) in face:\n",
    "            croped_gray = img[y:y+h, x:x+w]\n",
    "            eyes = eyes_cascade.detectMultiScale(croped_gray)\n",
    "            if len(eyes) >=2:\n",
    "                return croped_gray"
   ]
  },
  {
   "cell_type": "code",
   "execution_count": 13,
   "id": "8ad892bf",
   "metadata": {},
   "outputs": [
    {
     "name": "stdout",
     "output_type": "stream",
     "text": [
      "alexandra_daddario\n",
      "Generating cropped images in folder:  ./data/train/cropped/alexandra_daddario\n",
      "johnny depp\n",
      "Generating cropped images in folder:  ./data/train/cropped/johnny depp\n",
      "ms_dhoni\n",
      "Generating cropped images in folder:  ./data/train/cropped/ms_dhoni\n",
      "narendra_modi\n",
      "Generating cropped images in folder:  ./data/train/cropped/narendra_modi\n"
     ]
    }
   ],
   "source": [
    "cropped_image_dirs = []\n",
    "\n",
    "for img_dir in img_dirs:\n",
    "    count = 1\n",
    "    celebrity_name = img_dir.split('/')[-1]\n",
    "    print(celebrity_name)\n",
    "    \n",
    "    for i in os.scandir(img_dir):\n",
    "        cropped_img = get_croped_image(i.path)\n",
    "        \n",
    "        if cropped_img is not None:\n",
    "            cropped_folder = path_to_cr_data + celebrity_name\n",
    "            if not os.path.exists(cropped_folder):\n",
    "                os.makedirs(cropped_folder)\n",
    "                cropped_image_dirs.append(cropped_folder)\n",
    "                print(\"Generating cropped images in folder: \",cropped_folder)\n",
    "            cropped_file_name = celebrity_name + str(count) + '.png'\n",
    "            cropped_file_path = cropped_folder+ '/' + cropped_file_name\n",
    "            cv2.imwrite(cropped_file_path, cropped_img)\n",
    "            count+=1"
   ]
  },
  {
   "cell_type": "code",
   "execution_count": 14,
   "id": "741b03b9",
   "metadata": {},
   "outputs": [
    {
     "data": {
      "text/plain": [
       "['./data/train/cropped/alexandra_daddario',\n",
       " './data/train/cropped/johnny depp',\n",
       " './data/train/cropped/ms_dhoni',\n",
       " './data/train/cropped/narendra_modi']"
      ]
     },
     "execution_count": 14,
     "metadata": {},
     "output_type": "execute_result"
    }
   ],
   "source": [
    "cropped_image_dirs"
   ]
  },
  {
   "cell_type": "code",
   "execution_count": 15,
   "id": "513b9643",
   "metadata": {},
   "outputs": [],
   "source": [
    "path_to_data_test = \"./data/test/\"\n",
    "path_to_cr_data_test = \"./data/test/cropped/\""
   ]
  },
  {
   "cell_type": "code",
   "execution_count": 16,
   "id": "5a16dab6",
   "metadata": {},
   "outputs": [],
   "source": [
    "img_dirs_test = []\n",
    "for i in os.scandir(path_to_data_test):\n",
    "    if i.is_dir():\n",
    "        img_dirs_test.append(i.path)"
   ]
  },
  {
   "cell_type": "code",
   "execution_count": 17,
   "id": "cf4da11c",
   "metadata": {},
   "outputs": [
    {
     "data": {
      "text/plain": [
       "['./data/test/alexandra_daddario',\n",
       " './data/test/johnny depp',\n",
       " './data/test/ms_dhoni',\n",
       " './data/test/narendra_modi']"
      ]
     },
     "execution_count": 17,
     "metadata": {},
     "output_type": "execute_result"
    }
   ],
   "source": [
    "img_dirs_test"
   ]
  },
  {
   "cell_type": "code",
   "execution_count": 22,
   "id": "e1ddb68f",
   "metadata": {},
   "outputs": [],
   "source": [
    "def get_croped_image_test(image_path):\n",
    "    img = cv2.imread(image_path)\n",
    "    if img is not None:\n",
    "        face = faces_cascade.detectMultiScale(img)\n",
    "        for (x,y,w,h) in face:\n",
    "            croped_gray_test = img[y:y+h, x:x+w]\n",
    "            eyes = eyes_cascade.detectMultiScale(croped_gray_test)\n",
    "            if len(eyes) >=2:\n",
    "                return croped_gray_test"
   ]
  },
  {
   "cell_type": "code",
   "execution_count": 23,
   "id": "17526fa9",
   "metadata": {},
   "outputs": [
    {
     "name": "stdout",
     "output_type": "stream",
     "text": [
      "alexandra_daddario\n",
      "Generating cropped images in folder:  ./data/test/cropped/alexandra_daddario\n",
      "johnny depp\n",
      "Generating cropped images in folder:  ./data/test/cropped/johnny depp\n",
      "ms_dhoni\n",
      "Generating cropped images in folder:  ./data/test/cropped/ms_dhoni\n",
      "narendra_modi\n",
      "Generating cropped images in folder:  ./data/test/cropped/narendra_modi\n"
     ]
    }
   ],
   "source": [
    "cropped_image_dirs_test = []\n",
    "\n",
    "for img_dir_test in img_dirs_test:\n",
    "    count = 1\n",
    "    celebrity_name = img_dir_test.split('/')[-1]\n",
    "    print(celebrity_name)\n",
    "    \n",
    "    for i in os.scandir(img_dir_test):\n",
    "        cropped_img_test = get_croped_image_test(i.path)\n",
    "        \n",
    "        if cropped_img_test is not None:\n",
    "            cropped_folder_test = path_to_cr_data_test + celebrity_name\n",
    "            if not os.path.exists(cropped_folder_test):\n",
    "                os.makedirs(cropped_folder_test)\n",
    "                cropped_image_dirs.append(cropped_folder_test)\n",
    "                print(\"Generating cropped images in folder: \",cropped_folder_test)\n",
    "            cropped_file_name_test = celebrity_name + str(count) + '.png'\n",
    "            cropped_file_path_test = cropped_folder_test+ '/' + cropped_file_name_test\n",
    "            cv2.imwrite(cropped_file_path_test, cropped_img_test)\n",
    "            count+=1"
   ]
  },
  {
   "cell_type": "code",
   "execution_count": null,
   "id": "abdc2fab",
   "metadata": {},
   "outputs": [],
   "source": []
  },
  {
   "cell_type": "code",
   "execution_count": null,
   "id": "bbad4b7d",
   "metadata": {},
   "outputs": [],
   "source": [
    "\n"
   ]
  },
  {
   "cell_type": "code",
   "execution_count": null,
   "id": "86a1419b",
   "metadata": {},
   "outputs": [],
   "source": []
  }
 ],
 "metadata": {
  "kernelspec": {
   "display_name": "Python 3 (ipykernel)",
   "language": "python",
   "name": "python3"
  },
  "language_info": {
   "codemirror_mode": {
    "name": "ipython",
    "version": 3
   },
   "file_extension": ".py",
   "mimetype": "text/x-python",
   "name": "python",
   "nbconvert_exporter": "python",
   "pygments_lexer": "ipython3",
   "version": "3.11.5"
  }
 },
 "nbformat": 4,
 "nbformat_minor": 5
}
