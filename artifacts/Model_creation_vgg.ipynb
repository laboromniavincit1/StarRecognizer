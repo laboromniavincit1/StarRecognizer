{
 "cells": [
  {
   "cell_type": "code",
   "execution_count": 10,
   "id": "94c354c9",
   "metadata": {},
   "outputs": [],
   "source": [
    "from keras.applications import vgg16\n",
    "import cv2\n",
    "from keras.applications.vgg16 import preprocess_input\n",
    "import matplotlib.pyplot as plt\n",
    "from keras.layers import Dense, Flatten, Dropout\n",
    "from keras.models import Model"
   ]
  },
  {
   "cell_type": "code",
   "execution_count": 2,
   "id": "90bd84dc",
   "metadata": {},
   "outputs": [
    {
     "name": "stdout",
     "output_type": "stream",
     "text": [
      "WARNING:tensorflow:From C:\\Users\\khush\\anaconda3\\Lib\\site-packages\\keras\\src\\backend.py:1398: The name tf.executing_eagerly_outside_functions is deprecated. Please use tf.compat.v1.executing_eagerly_outside_functions instead.\n",
      "\n",
      "WARNING:tensorflow:From C:\\Users\\khush\\anaconda3\\Lib\\site-packages\\keras\\src\\layers\\pooling\\max_pooling2d.py:161: The name tf.nn.max_pool is deprecated. Please use tf.nn.max_pool2d instead.\n",
      "\n"
     ]
    }
   ],
   "source": [
    "model = vgg16.VGG16(weights='imagenet', include_top=False,input_shape=(224,224,3) )"
   ]
  },
  {
   "cell_type": "code",
   "execution_count": 3,
   "id": "37e4c693",
   "metadata": {},
   "outputs": [
    {
     "data": {
      "text/plain": [
       "<KerasTensor: shape=(None, 224, 224, 3) dtype=float32 (created by layer 'input_1')>"
      ]
     },
     "execution_count": 3,
     "metadata": {},
     "output_type": "execute_result"
    }
   ],
   "source": [
    "model.input"
   ]
  },
  {
   "cell_type": "code",
   "execution_count": 4,
   "id": "74f4bcb6",
   "metadata": {},
   "outputs": [
    {
     "data": {
      "text/plain": [
       "<KerasTensor: shape=(None, 7, 7, 512) dtype=float32 (created by layer 'block5_pool')>"
      ]
     },
     "execution_count": 4,
     "metadata": {},
     "output_type": "execute_result"
    }
   ],
   "source": [
    "model.output"
   ]
  },
  {
   "cell_type": "code",
   "execution_count": 5,
   "id": "d8c9684b",
   "metadata": {},
   "outputs": [
    {
     "name": "stdout",
     "output_type": "stream",
     "text": [
      "Model: \"vgg16\"\n",
      "_________________________________________________________________\n",
      " Layer (type)                Output Shape              Param #   \n",
      "=================================================================\n",
      " input_1 (InputLayer)        [(None, 224, 224, 3)]     0         \n",
      "                                                                 \n",
      " block1_conv1 (Conv2D)       (None, 224, 224, 64)      1792      \n",
      "                                                                 \n",
      " block1_conv2 (Conv2D)       (None, 224, 224, 64)      36928     \n",
      "                                                                 \n",
      " block1_pool (MaxPooling2D)  (None, 112, 112, 64)      0         \n",
      "                                                                 \n",
      " block2_conv1 (Conv2D)       (None, 112, 112, 128)     73856     \n",
      "                                                                 \n",
      " block2_conv2 (Conv2D)       (None, 112, 112, 128)     147584    \n",
      "                                                                 \n",
      " block2_pool (MaxPooling2D)  (None, 56, 56, 128)       0         \n",
      "                                                                 \n",
      " block3_conv1 (Conv2D)       (None, 56, 56, 256)       295168    \n",
      "                                                                 \n",
      " block3_conv2 (Conv2D)       (None, 56, 56, 256)       590080    \n",
      "                                                                 \n",
      " block3_conv3 (Conv2D)       (None, 56, 56, 256)       590080    \n",
      "                                                                 \n",
      " block3_pool (MaxPooling2D)  (None, 28, 28, 256)       0         \n",
      "                                                                 \n",
      " block4_conv1 (Conv2D)       (None, 28, 28, 512)       1180160   \n",
      "                                                                 \n",
      " block4_conv2 (Conv2D)       (None, 28, 28, 512)       2359808   \n",
      "                                                                 \n",
      " block4_conv3 (Conv2D)       (None, 28, 28, 512)       2359808   \n",
      "                                                                 \n",
      " block4_pool (MaxPooling2D)  (None, 14, 14, 512)       0         \n",
      "                                                                 \n",
      " block5_conv1 (Conv2D)       (None, 14, 14, 512)       2359808   \n",
      "                                                                 \n",
      " block5_conv2 (Conv2D)       (None, 14, 14, 512)       2359808   \n",
      "                                                                 \n",
      " block5_conv3 (Conv2D)       (None, 14, 14, 512)       2359808   \n",
      "                                                                 \n",
      " block5_pool (MaxPooling2D)  (None, 7, 7, 512)         0         \n",
      "                                                                 \n",
      "=================================================================\n",
      "Total params: 14714688 (56.13 MB)\n",
      "Trainable params: 14714688 (56.13 MB)\n",
      "Non-trainable params: 0 (0.00 Byte)\n",
      "_________________________________________________________________\n"
     ]
    }
   ],
   "source": [
    "model.summary()"
   ]
  },
  {
   "cell_type": "code",
   "execution_count": 6,
   "id": "b297c918",
   "metadata": {},
   "outputs": [
    {
     "data": {
      "text/plain": [
       "True"
      ]
     },
     "execution_count": 6,
     "metadata": {},
     "output_type": "execute_result"
    }
   ],
   "source": [
    "model.layers[1].trainable"
   ]
  },
  {
   "cell_type": "code",
   "execution_count": 7,
   "id": "1087b848",
   "metadata": {},
   "outputs": [],
   "source": [
    "for i in model.layers:\n",
    "    i.trainable = False"
   ]
  },
  {
   "cell_type": "code",
   "execution_count": 11,
   "id": "23a5a5b3",
   "metadata": {},
   "outputs": [],
   "source": [
    "layer = Flatten()(model.output)\n",
    "layer = Dense(units=1024, activation='relu')(layer)\n",
    "layer = Dropout(0.3)(layer)\n",
    "layer = Dense(units = 512, activation='relu')(layer)\n",
    "layer = Dropout(0.3)(layer)\n",
    "layer = Dense(units=512, activation='relu')(layer)\n",
    "layer = Dropout(0.3)(layer)\n",
    "layer = Dense(units=4, activation='softmax')(layer)"
   ]
  },
  {
   "cell_type": "code",
   "execution_count": null,
   "id": "d82b18de",
   "metadata": {},
   "outputs": [],
   "source": []
  },
  {
   "cell_type": "code",
   "execution_count": 12,
   "id": "90e86912",
   "metadata": {},
   "outputs": [],
   "source": [
    "new_model = Model(inputs = model.input, outputs = layer)"
   ]
  },
  {
   "cell_type": "code",
   "execution_count": 13,
   "id": "941bcfee",
   "metadata": {},
   "outputs": [
    {
     "name": "stdout",
     "output_type": "stream",
     "text": [
      "Model: \"model\"\n",
      "_________________________________________________________________\n",
      " Layer (type)                Output Shape              Param #   \n",
      "=================================================================\n",
      " input_1 (InputLayer)        [(None, 224, 224, 3)]     0         \n",
      "                                                                 \n",
      " block1_conv1 (Conv2D)       (None, 224, 224, 64)      1792      \n",
      "                                                                 \n",
      " block1_conv2 (Conv2D)       (None, 224, 224, 64)      36928     \n",
      "                                                                 \n",
      " block1_pool (MaxPooling2D)  (None, 112, 112, 64)      0         \n",
      "                                                                 \n",
      " block2_conv1 (Conv2D)       (None, 112, 112, 128)     73856     \n",
      "                                                                 \n",
      " block2_conv2 (Conv2D)       (None, 112, 112, 128)     147584    \n",
      "                                                                 \n",
      " block2_pool (MaxPooling2D)  (None, 56, 56, 128)       0         \n",
      "                                                                 \n",
      " block3_conv1 (Conv2D)       (None, 56, 56, 256)       295168    \n",
      "                                                                 \n",
      " block3_conv2 (Conv2D)       (None, 56, 56, 256)       590080    \n",
      "                                                                 \n",
      " block3_conv3 (Conv2D)       (None, 56, 56, 256)       590080    \n",
      "                                                                 \n",
      " block3_pool (MaxPooling2D)  (None, 28, 28, 256)       0         \n",
      "                                                                 \n",
      " block4_conv1 (Conv2D)       (None, 28, 28, 512)       1180160   \n",
      "                                                                 \n",
      " block4_conv2 (Conv2D)       (None, 28, 28, 512)       2359808   \n",
      "                                                                 \n",
      " block4_conv3 (Conv2D)       (None, 28, 28, 512)       2359808   \n",
      "                                                                 \n",
      " block4_pool (MaxPooling2D)  (None, 14, 14, 512)       0         \n",
      "                                                                 \n",
      " block5_conv1 (Conv2D)       (None, 14, 14, 512)       2359808   \n",
      "                                                                 \n",
      " block5_conv2 (Conv2D)       (None, 14, 14, 512)       2359808   \n",
      "                                                                 \n",
      " block5_conv3 (Conv2D)       (None, 14, 14, 512)       2359808   \n",
      "                                                                 \n",
      " block5_pool (MaxPooling2D)  (None, 7, 7, 512)         0         \n",
      "                                                                 \n",
      " flatten (Flatten)           (None, 25088)             0         \n",
      "                                                                 \n",
      " dense (Dense)               (None, 1024)              25691136  \n",
      "                                                                 \n",
      " dropout (Dropout)           (None, 1024)              0         \n",
      "                                                                 \n",
      " dense_1 (Dense)             (None, 512)               524800    \n",
      "                                                                 \n",
      " dropout_1 (Dropout)         (None, 512)               0         \n",
      "                                                                 \n",
      " dense_2 (Dense)             (None, 512)               262656    \n",
      "                                                                 \n",
      " dropout_2 (Dropout)         (None, 512)               0         \n",
      "                                                                 \n",
      " dense_3 (Dense)             (None, 4)                 2052      \n",
      "                                                                 \n",
      "=================================================================\n",
      "Total params: 41195332 (157.15 MB)\n",
      "Trainable params: 26480644 (101.02 MB)\n",
      "Non-trainable params: 14714688 (56.13 MB)\n",
      "_________________________________________________________________\n"
     ]
    }
   ],
   "source": [
    "new_model.summary()"
   ]
  },
  {
   "cell_type": "code",
   "execution_count": 14,
   "id": "a7fc2eb1",
   "metadata": {},
   "outputs": [
    {
     "name": "stdout",
     "output_type": "stream",
     "text": [
      "WARNING:tensorflow:From C:\\Users\\khush\\anaconda3\\Lib\\site-packages\\keras\\src\\optimizers\\__init__.py:309: The name tf.train.Optimizer is deprecated. Please use tf.compat.v1.train.Optimizer instead.\n",
      "\n"
     ]
    }
   ],
   "source": [
    "new_model.compile(optimizer='adam', loss='categorical_crossentropy', metrics=['accuracy'] )"
   ]
  },
  {
   "cell_type": "code",
   "execution_count": 15,
   "id": "fc15208a",
   "metadata": {},
   "outputs": [],
   "source": [
    "from keras.preprocessing.image import ImageDataGenerator"
   ]
  },
  {
   "cell_type": "code",
   "execution_count": 16,
   "id": "3f2cba77",
   "metadata": {},
   "outputs": [
    {
     "name": "stdout",
     "output_type": "stream",
     "text": [
      "Found 779 images belonging to 4 classes.\n",
      "Found 212 images belonging to 4 classes.\n"
     ]
    }
   ],
   "source": [
    "train_datagen = ImageDataGenerator(\n",
    "        rescale=1./255,\n",
    "        shear_range=0.2,\n",
    "        zoom_range=0.2,\n",
    "        horizontal_flip=True)\n",
    "test_datagen = ImageDataGenerator(rescale=1./255)\n",
    "train_generator = train_datagen.flow_from_directory(\n",
    "        'data/train/cropped/',\n",
    "        target_size=(224, 224),\n",
    "        batch_size=12,\n",
    "        class_mode='categorical')\n",
    "validation_generator = test_datagen.flow_from_directory(\n",
    "        'data/test/cropped/',\n",
    "        target_size=(224, 224),\n",
    "        batch_size=8,\n",
    "        class_mode='categorical')"
   ]
  },
  {
   "cell_type": "code",
   "execution_count": null,
   "id": "29b96b5c",
   "metadata": {},
   "outputs": [],
   "source": [
    "train_generator.class_indices"
   ]
  },
  {
   "cell_type": "code",
   "execution_count": 17,
   "id": "b5ffa7f2",
   "metadata": {
    "scrolled": true
   },
   "outputs": [
    {
     "name": "stdout",
     "output_type": "stream",
     "text": [
      "Epoch 1/10\n",
      "WARNING:tensorflow:From C:\\Users\\khush\\anaconda3\\Lib\\site-packages\\keras\\src\\utils\\tf_utils.py:492: The name tf.ragged.RaggedTensorValue is deprecated. Please use tf.compat.v1.ragged.RaggedTensorValue instead.\n",
      "\n",
      "WARNING:tensorflow:From C:\\Users\\khush\\anaconda3\\Lib\\site-packages\\keras\\src\\engine\\base_layer_utils.py:384: The name tf.executing_eagerly_outside_functions is deprecated. Please use tf.compat.v1.executing_eagerly_outside_functions instead.\n",
      "\n",
      "64/64 [==============================] - 75s 1s/step - loss: 2.1686 - accuracy: 0.5379 - val_loss: 0.4496 - val_accuracy: 0.8632\n",
      "Epoch 2/10\n",
      "64/64 [==============================] - 70s 1s/step - loss: 0.4535 - accuracy: 0.8267 - val_loss: 0.3117 - val_accuracy: 0.9151\n",
      "Epoch 3/10\n",
      "64/64 [==============================] - 70s 1s/step - loss: 0.2415 - accuracy: 0.9076 - val_loss: 0.1672 - val_accuracy: 0.9528\n",
      "Epoch 4/10\n",
      "64/64 [==============================] - 73s 1s/step - loss: 0.2722 - accuracy: 0.8986 - val_loss: 0.2687 - val_accuracy: 0.8915\n",
      "Epoch 5/10\n",
      "64/64 [==============================] - 74s 1s/step - loss: 0.1851 - accuracy: 0.9294 - val_loss: 0.3794 - val_accuracy: 0.8726\n",
      "Epoch 6/10\n",
      "64/64 [==============================] - 73s 1s/step - loss: 0.1527 - accuracy: 0.9499 - val_loss: 0.3762 - val_accuracy: 0.8679\n",
      "Epoch 7/10\n",
      "64/64 [==============================] - 73s 1s/step - loss: 0.1905 - accuracy: 0.9422 - val_loss: 0.2353 - val_accuracy: 0.9104\n",
      "Epoch 8/10\n",
      "64/64 [==============================] - 73s 1s/step - loss: 0.1101 - accuracy: 0.9615 - val_loss: 0.1473 - val_accuracy: 0.9245\n",
      "Epoch 9/10\n",
      "64/64 [==============================] - 73s 1s/step - loss: 0.1628 - accuracy: 0.9409 - val_loss: 0.1704 - val_accuracy: 0.9528\n",
      "Epoch 10/10\n",
      "64/64 [==============================] - 74s 1s/step - loss: 0.1339 - accuracy: 0.9487 - val_loss: 0.1865 - val_accuracy: 0.9340\n"
     ]
    },
    {
     "data": {
      "text/plain": [
       "<keras.src.callbacks.History at 0x1a667d14ad0>"
      ]
     },
     "execution_count": 17,
     "metadata": {},
     "output_type": "execute_result"
    }
   ],
   "source": [
    "new_model.fit(train_generator,\n",
    "                        steps_per_epoch=779/12,\n",
    "                        epochs=10,\n",
    "                        validation_data=validation_generator,\n",
    "                        validation_steps=212/8\n",
    "                        )"
   ]
  },
  {
   "cell_type": "code",
   "execution_count": 18,
   "id": "04f7cabb",
   "metadata": {},
   "outputs": [
    {
     "data": {
      "text/plain": [
       "<bound method Model.get_weights of <keras.src.engine.functional.Functional object at 0x000001A667B2FB50>>"
      ]
     },
     "execution_count": 18,
     "metadata": {},
     "output_type": "execute_result"
    }
   ],
   "source": [
    "new_model.get_weights"
   ]
  },
  {
   "cell_type": "code",
   "execution_count": null,
   "id": "0bbc081b",
   "metadata": {},
   "outputs": [],
   "source": [
    "import json\n",
    "with open(\"class_dictionary.json\",\"w\") as f:\n",
    "    f.write(json.dumps(train_generator.class_indices))"
   ]
  },
  {
   "cell_type": "code",
   "execution_count": 155,
   "id": "c3b3d5a9",
   "metadata": {},
   "outputs": [],
   "source": [
    "import numpy as np \n",
    "from keras.preprocessing import image\n",
    "img = image.load_img('./data/test/cropped/ms_dhoni/ms_dhoni11.png')\n",
    "img = img.resize((224,224))\n",
    "array_img = image.img_to_array(img)\n",
    "fimg = np.expand_dims(array_img, axis = 0)\n",
    "fimg = preprocess_input(fimg)"
   ]
  },
  {
   "cell_type": "code",
   "execution_count": 156,
   "id": "9e61d7b0",
   "metadata": {},
   "outputs": [
    {
     "data": {
      "text/plain": [
       "{'alexandra_daddario': 0, 'johnny depp': 1, 'ms_dhoni': 2, 'narendra_modi': 3}"
      ]
     },
     "execution_count": 156,
     "metadata": {},
     "output_type": "execute_result"
    }
   ],
   "source": [
    "train_generator.class_indices"
   ]
  },
  {
   "cell_type": "code",
   "execution_count": 158,
   "id": "7a08cc3f",
   "metadata": {},
   "outputs": [
    {
     "name": "stdout",
     "output_type": "stream",
     "text": [
      "1/1 [==============================] - 0s 86ms/step\n"
     ]
    }
   ],
   "source": [
    "y = new_model.predict(fimg)"
   ]
  },
  {
   "cell_type": "code",
   "execution_count": null,
   "id": "5c3d7537",
   "metadata": {},
   "outputs": [],
   "source": [
    "import matplotlib.pyplot as plt\n",
    "plt.imshow(resized_dhoni,cmap='gray')"
   ]
  },
  {
   "cell_type": "code",
   "execution_count": null,
   "id": "ac61c87d",
   "metadata": {},
   "outputs": [],
   "source": [
    "img = image.load_img('modi.jpg')\n",
    "img = img.resize((224,224))\n",
    "array_img = image.img_to_array(img)\n",
    "# import numpy as np\n",
    "fimg = np.expand_dims(array_img, axis = 0)"
   ]
  },
  {
   "cell_type": "code",
   "execution_count": null,
   "id": "c88c70a0",
   "metadata": {},
   "outputs": [],
   "source": [
    "faces_cascade = cv2.CascadeClassifier('haarcascade/haarcascade_frontalface_default.xml')\n",
    "eyes_cascade = cv2.CascadeClassifier('haarcascade/haarcascade_eye.xml')\n",
    "\n",
    "def get_croped_image(image_path):\n",
    "    img = cv2.imread(image_path)\n",
    "    if img is not None:\n",
    "        #gray = cv2.cvtColor(img, cv2.COLOR_BGR2GRAY)\n",
    "        face = faces_cascade.detectMultiScale(img)\n",
    "        for (x,y,w,h) in face:\n",
    "            croped_gray = img[y:y+h, x:x+w]\n",
    "            eyes = eyes_cascade.detectMultiScale(croped_gray)\n",
    "            if len(eyes) >=2:\n",
    "                return croped_gray"
   ]
  },
  {
   "cell_type": "code",
   "execution_count": null,
   "id": "5a12f2ec",
   "metadata": {},
   "outputs": [],
   "source": [
    "dhoni_img = get_croped_image('/Projects/Celebrity_classifier/johnny.jpg')"
   ]
  },
  {
   "cell_type": "code",
   "execution_count": null,
   "id": "64d32965",
   "metadata": {},
   "outputs": [],
   "source": [
    "resized_dhoni = cv2.resize(dhoni_img, (224,224))"
   ]
  },
  {
   "cell_type": "code",
   "execution_count": null,
   "id": "d82ac372",
   "metadata": {},
   "outputs": [],
   "source": [
    "resized_dhoni.shape"
   ]
  },
  {
   "cell_type": "code",
   "execution_count": null,
   "id": "a9e57030",
   "metadata": {},
   "outputs": [],
   "source": [
    "array_img = image.img_to_array(resized_dhoni)\n",
    "array_img.shape"
   ]
  },
  {
   "cell_type": "code",
   "execution_count": null,
   "id": "509dad25",
   "metadata": {},
   "outputs": [],
   "source": [
    "fimg = np.expand_dims(array_img, axis = 0)"
   ]
  },
  {
   "cell_type": "code",
   "execution_count": null,
   "id": "755b4bee",
   "metadata": {},
   "outputs": [],
   "source": [
    "fimg.shape"
   ]
  },
  {
   "cell_type": "code",
   "execution_count": null,
   "id": "c727b285",
   "metadata": {},
   "outputs": [],
   "source": [
    "new_model.predict(fimg)"
   ]
  },
  {
   "cell_type": "code",
   "execution_count": null,
   "id": "d8b39667",
   "metadata": {},
   "outputs": [],
   "source": [
    "train_generator.class_indices"
   ]
  },
  {
   "cell_type": "code",
   "execution_count": 28,
   "id": "d9520809",
   "metadata": {},
   "outputs": [],
   "source": [
    "from keras.models import load_model"
   ]
  },
  {
   "cell_type": "code",
   "execution_count": 29,
   "id": "b1ea3078",
   "metadata": {},
   "outputs": [],
   "source": [
    "x = load_model('./artifacts/model.h5')"
   ]
  },
  {
   "cell_type": "code",
   "execution_count": 150,
   "id": "520320e1",
   "metadata": {},
   "outputs": [
    {
     "name": "stdout",
     "output_type": "stream",
     "text": [
      "1/1 [==============================] - 0s 87ms/step\n"
     ]
    },
    {
     "data": {
      "text/plain": [
       "array([[  0.,   0.,   0., 100.]], dtype=float32)"
      ]
     },
     "execution_count": 150,
     "metadata": {},
     "output_type": "execute_result"
    }
   ],
   "source": [
    "x.predict(fimg)*100"
   ]
  }
 ],
 "metadata": {
  "kernelspec": {
   "display_name": "Python 3 (ipykernel)",
   "language": "python",
   "name": "python3"
  },
  "language_info": {
   "codemirror_mode": {
    "name": "ipython",
    "version": 3
   },
   "file_extension": ".py",
   "mimetype": "text/x-python",
   "name": "python",
   "nbconvert_exporter": "python",
   "pygments_lexer": "ipython3",
   "version": "3.11.5"
  }
 },
 "nbformat": 4,
 "nbformat_minor": 5
}
